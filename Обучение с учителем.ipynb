{
 "cells": [
  {
   "cell_type": "markdown",
   "id": "bcbf7012",
   "metadata": {},
   "source": [
    "## Подготовка данных"
   ]
  },
  {
   "cell_type": "code",
   "execution_count": 1,
   "id": "848ee5b2",
   "metadata": {},
   "outputs": [],
   "source": [
    "import pandas as pd\n",
    "from sklearn.model_selection import train_test_split\n",
    "from sklearn.metrics import f1_score\n",
    "from sklearn.ensemble import RandomForestClassifier\n",
    "from sklearn.tree import DecisionTreeClassifier\n",
    "from sklearn.metrics import accuracy_score\n",
    "from sklearn.metrics import roc_auc_score\n",
    "from sklearn.utils import shuffle\n",
    "\n",
    "data = pd.read_csv('data/Churn.csv')"
   ]
  },
  {
   "cell_type": "code",
   "execution_count": 2,
   "id": "4b739b57",
   "metadata": {},
   "outputs": [
    {
     "name": "stdout",
     "output_type": "stream",
     "text": [
      "<class 'pandas.core.frame.DataFrame'>\n",
      "RangeIndex: 10000 entries, 0 to 9999\n",
      "Data columns (total 14 columns):\n",
      " #   Column           Non-Null Count  Dtype  \n",
      "---  ------           --------------  -----  \n",
      " 0   RowNumber        10000 non-null  int64  \n",
      " 1   CustomerId       10000 non-null  int64  \n",
      " 2   Surname          10000 non-null  object \n",
      " 3   CreditScore      10000 non-null  int64  \n",
      " 4   Geography        10000 non-null  object \n",
      " 5   Gender           10000 non-null  object \n",
      " 6   Age              10000 non-null  int64  \n",
      " 7   Tenure           9091 non-null   float64\n",
      " 8   Balance          10000 non-null  float64\n",
      " 9   NumOfProducts    10000 non-null  int64  \n",
      " 10  HasCrCard        10000 non-null  int64  \n",
      " 11  IsActiveMember   10000 non-null  int64  \n",
      " 12  EstimatedSalary  10000 non-null  float64\n",
      " 13  Exited           10000 non-null  int64  \n",
      "dtypes: float64(3), int64(8), object(3)\n",
      "memory usage: 1.1+ MB\n"
     ]
    }
   ],
   "source": [
    "data.info()"
   ]
  },
  {
   "cell_type": "code",
   "execution_count": 3,
   "id": "bfd7fce1",
   "metadata": {},
   "outputs": [
    {
     "data": {
      "text/html": [
       "<div>\n",
       "<style scoped>\n",
       "    .dataframe tbody tr th:only-of-type {\n",
       "        vertical-align: middle;\n",
       "    }\n",
       "\n",
       "    .dataframe tbody tr th {\n",
       "        vertical-align: top;\n",
       "    }\n",
       "\n",
       "    .dataframe thead th {\n",
       "        text-align: right;\n",
       "    }\n",
       "</style>\n",
       "<table border=\"1\" class=\"dataframe\">\n",
       "  <thead>\n",
       "    <tr style=\"text-align: right;\">\n",
       "      <th></th>\n",
       "      <th>RowNumber</th>\n",
       "      <th>CustomerId</th>\n",
       "      <th>CreditScore</th>\n",
       "      <th>Age</th>\n",
       "      <th>Tenure</th>\n",
       "      <th>Balance</th>\n",
       "      <th>NumOfProducts</th>\n",
       "      <th>HasCrCard</th>\n",
       "      <th>IsActiveMember</th>\n",
       "      <th>EstimatedSalary</th>\n",
       "      <th>Exited</th>\n",
       "    </tr>\n",
       "  </thead>\n",
       "  <tbody>\n",
       "    <tr>\n",
       "      <th>count</th>\n",
       "      <td>10000.00000</td>\n",
       "      <td>1.000000e+04</td>\n",
       "      <td>10000.000000</td>\n",
       "      <td>10000.000000</td>\n",
       "      <td>9091.000000</td>\n",
       "      <td>10000.000000</td>\n",
       "      <td>10000.000000</td>\n",
       "      <td>10000.00000</td>\n",
       "      <td>10000.000000</td>\n",
       "      <td>10000.000000</td>\n",
       "      <td>10000.000000</td>\n",
       "    </tr>\n",
       "    <tr>\n",
       "      <th>mean</th>\n",
       "      <td>5000.50000</td>\n",
       "      <td>1.569094e+07</td>\n",
       "      <td>650.528800</td>\n",
       "      <td>38.921800</td>\n",
       "      <td>4.997690</td>\n",
       "      <td>76485.889288</td>\n",
       "      <td>1.530200</td>\n",
       "      <td>0.70550</td>\n",
       "      <td>0.515100</td>\n",
       "      <td>100090.239881</td>\n",
       "      <td>0.203700</td>\n",
       "    </tr>\n",
       "    <tr>\n",
       "      <th>std</th>\n",
       "      <td>2886.89568</td>\n",
       "      <td>7.193619e+04</td>\n",
       "      <td>96.653299</td>\n",
       "      <td>10.487806</td>\n",
       "      <td>2.894723</td>\n",
       "      <td>62397.405202</td>\n",
       "      <td>0.581654</td>\n",
       "      <td>0.45584</td>\n",
       "      <td>0.499797</td>\n",
       "      <td>57510.492818</td>\n",
       "      <td>0.402769</td>\n",
       "    </tr>\n",
       "    <tr>\n",
       "      <th>min</th>\n",
       "      <td>1.00000</td>\n",
       "      <td>1.556570e+07</td>\n",
       "      <td>350.000000</td>\n",
       "      <td>18.000000</td>\n",
       "      <td>0.000000</td>\n",
       "      <td>0.000000</td>\n",
       "      <td>1.000000</td>\n",
       "      <td>0.00000</td>\n",
       "      <td>0.000000</td>\n",
       "      <td>11.580000</td>\n",
       "      <td>0.000000</td>\n",
       "    </tr>\n",
       "    <tr>\n",
       "      <th>25%</th>\n",
       "      <td>2500.75000</td>\n",
       "      <td>1.562853e+07</td>\n",
       "      <td>584.000000</td>\n",
       "      <td>32.000000</td>\n",
       "      <td>2.000000</td>\n",
       "      <td>0.000000</td>\n",
       "      <td>1.000000</td>\n",
       "      <td>0.00000</td>\n",
       "      <td>0.000000</td>\n",
       "      <td>51002.110000</td>\n",
       "      <td>0.000000</td>\n",
       "    </tr>\n",
       "    <tr>\n",
       "      <th>50%</th>\n",
       "      <td>5000.50000</td>\n",
       "      <td>1.569074e+07</td>\n",
       "      <td>652.000000</td>\n",
       "      <td>37.000000</td>\n",
       "      <td>5.000000</td>\n",
       "      <td>97198.540000</td>\n",
       "      <td>1.000000</td>\n",
       "      <td>1.00000</td>\n",
       "      <td>1.000000</td>\n",
       "      <td>100193.915000</td>\n",
       "      <td>0.000000</td>\n",
       "    </tr>\n",
       "    <tr>\n",
       "      <th>75%</th>\n",
       "      <td>7500.25000</td>\n",
       "      <td>1.575323e+07</td>\n",
       "      <td>718.000000</td>\n",
       "      <td>44.000000</td>\n",
       "      <td>7.000000</td>\n",
       "      <td>127644.240000</td>\n",
       "      <td>2.000000</td>\n",
       "      <td>1.00000</td>\n",
       "      <td>1.000000</td>\n",
       "      <td>149388.247500</td>\n",
       "      <td>0.000000</td>\n",
       "    </tr>\n",
       "    <tr>\n",
       "      <th>max</th>\n",
       "      <td>10000.00000</td>\n",
       "      <td>1.581569e+07</td>\n",
       "      <td>850.000000</td>\n",
       "      <td>92.000000</td>\n",
       "      <td>10.000000</td>\n",
       "      <td>250898.090000</td>\n",
       "      <td>4.000000</td>\n",
       "      <td>1.00000</td>\n",
       "      <td>1.000000</td>\n",
       "      <td>199992.480000</td>\n",
       "      <td>1.000000</td>\n",
       "    </tr>\n",
       "  </tbody>\n",
       "</table>\n",
       "</div>"
      ],
      "text/plain": [
       "         RowNumber    CustomerId   CreditScore           Age       Tenure  \\\n",
       "count  10000.00000  1.000000e+04  10000.000000  10000.000000  9091.000000   \n",
       "mean    5000.50000  1.569094e+07    650.528800     38.921800     4.997690   \n",
       "std     2886.89568  7.193619e+04     96.653299     10.487806     2.894723   \n",
       "min        1.00000  1.556570e+07    350.000000     18.000000     0.000000   \n",
       "25%     2500.75000  1.562853e+07    584.000000     32.000000     2.000000   \n",
       "50%     5000.50000  1.569074e+07    652.000000     37.000000     5.000000   \n",
       "75%     7500.25000  1.575323e+07    718.000000     44.000000     7.000000   \n",
       "max    10000.00000  1.581569e+07    850.000000     92.000000    10.000000   \n",
       "\n",
       "             Balance  NumOfProducts    HasCrCard  IsActiveMember  \\\n",
       "count   10000.000000   10000.000000  10000.00000    10000.000000   \n",
       "mean    76485.889288       1.530200      0.70550        0.515100   \n",
       "std     62397.405202       0.581654      0.45584        0.499797   \n",
       "min         0.000000       1.000000      0.00000        0.000000   \n",
       "25%         0.000000       1.000000      0.00000        0.000000   \n",
       "50%     97198.540000       1.000000      1.00000        1.000000   \n",
       "75%    127644.240000       2.000000      1.00000        1.000000   \n",
       "max    250898.090000       4.000000      1.00000        1.000000   \n",
       "\n",
       "       EstimatedSalary        Exited  \n",
       "count     10000.000000  10000.000000  \n",
       "mean     100090.239881      0.203700  \n",
       "std       57510.492818      0.402769  \n",
       "min          11.580000      0.000000  \n",
       "25%       51002.110000      0.000000  \n",
       "50%      100193.915000      0.000000  \n",
       "75%      149388.247500      0.000000  \n",
       "max      199992.480000      1.000000  "
      ]
     },
     "execution_count": 3,
     "metadata": {},
     "output_type": "execute_result"
    }
   ],
   "source": [
    "data.describe()"
   ]
  },
  {
   "cell_type": "code",
   "execution_count": 4,
   "id": "e5317d45",
   "metadata": {},
   "outputs": [
    {
     "data": {
      "text/html": [
       "<div>\n",
       "<style scoped>\n",
       "    .dataframe tbody tr th:only-of-type {\n",
       "        vertical-align: middle;\n",
       "    }\n",
       "\n",
       "    .dataframe tbody tr th {\n",
       "        vertical-align: top;\n",
       "    }\n",
       "\n",
       "    .dataframe thead th {\n",
       "        text-align: right;\n",
       "    }\n",
       "</style>\n",
       "<table border=\"1\" class=\"dataframe\">\n",
       "  <thead>\n",
       "    <tr style=\"text-align: right;\">\n",
       "      <th></th>\n",
       "      <th>RowNumber</th>\n",
       "      <th>CustomerId</th>\n",
       "      <th>Surname</th>\n",
       "      <th>CreditScore</th>\n",
       "      <th>Geography</th>\n",
       "      <th>Gender</th>\n",
       "      <th>Age</th>\n",
       "      <th>Tenure</th>\n",
       "      <th>Balance</th>\n",
       "      <th>NumOfProducts</th>\n",
       "      <th>HasCrCard</th>\n",
       "      <th>IsActiveMember</th>\n",
       "      <th>EstimatedSalary</th>\n",
       "      <th>Exited</th>\n",
       "    </tr>\n",
       "  </thead>\n",
       "  <tbody>\n",
       "    <tr>\n",
       "      <th>0</th>\n",
       "      <td>1</td>\n",
       "      <td>15634602</td>\n",
       "      <td>Hargrave</td>\n",
       "      <td>619</td>\n",
       "      <td>France</td>\n",
       "      <td>Female</td>\n",
       "      <td>42</td>\n",
       "      <td>2.0</td>\n",
       "      <td>0.00</td>\n",
       "      <td>1</td>\n",
       "      <td>1</td>\n",
       "      <td>1</td>\n",
       "      <td>101348.88</td>\n",
       "      <td>1</td>\n",
       "    </tr>\n",
       "    <tr>\n",
       "      <th>1</th>\n",
       "      <td>2</td>\n",
       "      <td>15647311</td>\n",
       "      <td>Hill</td>\n",
       "      <td>608</td>\n",
       "      <td>Spain</td>\n",
       "      <td>Female</td>\n",
       "      <td>41</td>\n",
       "      <td>1.0</td>\n",
       "      <td>83807.86</td>\n",
       "      <td>1</td>\n",
       "      <td>0</td>\n",
       "      <td>1</td>\n",
       "      <td>112542.58</td>\n",
       "      <td>0</td>\n",
       "    </tr>\n",
       "    <tr>\n",
       "      <th>2</th>\n",
       "      <td>3</td>\n",
       "      <td>15619304</td>\n",
       "      <td>Onio</td>\n",
       "      <td>502</td>\n",
       "      <td>France</td>\n",
       "      <td>Female</td>\n",
       "      <td>42</td>\n",
       "      <td>8.0</td>\n",
       "      <td>159660.80</td>\n",
       "      <td>3</td>\n",
       "      <td>1</td>\n",
       "      <td>0</td>\n",
       "      <td>113931.57</td>\n",
       "      <td>1</td>\n",
       "    </tr>\n",
       "    <tr>\n",
       "      <th>3</th>\n",
       "      <td>4</td>\n",
       "      <td>15701354</td>\n",
       "      <td>Boni</td>\n",
       "      <td>699</td>\n",
       "      <td>France</td>\n",
       "      <td>Female</td>\n",
       "      <td>39</td>\n",
       "      <td>1.0</td>\n",
       "      <td>0.00</td>\n",
       "      <td>2</td>\n",
       "      <td>0</td>\n",
       "      <td>0</td>\n",
       "      <td>93826.63</td>\n",
       "      <td>0</td>\n",
       "    </tr>\n",
       "    <tr>\n",
       "      <th>4</th>\n",
       "      <td>5</td>\n",
       "      <td>15737888</td>\n",
       "      <td>Mitchell</td>\n",
       "      <td>850</td>\n",
       "      <td>Spain</td>\n",
       "      <td>Female</td>\n",
       "      <td>43</td>\n",
       "      <td>2.0</td>\n",
       "      <td>125510.82</td>\n",
       "      <td>1</td>\n",
       "      <td>1</td>\n",
       "      <td>1</td>\n",
       "      <td>79084.10</td>\n",
       "      <td>0</td>\n",
       "    </tr>\n",
       "  </tbody>\n",
       "</table>\n",
       "</div>"
      ],
      "text/plain": [
       "   RowNumber  CustomerId   Surname  CreditScore Geography  Gender  Age  \\\n",
       "0          1    15634602  Hargrave          619    France  Female   42   \n",
       "1          2    15647311      Hill          608     Spain  Female   41   \n",
       "2          3    15619304      Onio          502    France  Female   42   \n",
       "3          4    15701354      Boni          699    France  Female   39   \n",
       "4          5    15737888  Mitchell          850     Spain  Female   43   \n",
       "\n",
       "   Tenure    Balance  NumOfProducts  HasCrCard  IsActiveMember  \\\n",
       "0     2.0       0.00              1          1               1   \n",
       "1     1.0   83807.86              1          0               1   \n",
       "2     8.0  159660.80              3          1               0   \n",
       "3     1.0       0.00              2          0               0   \n",
       "4     2.0  125510.82              1          1               1   \n",
       "\n",
       "   EstimatedSalary  Exited  \n",
       "0        101348.88       1  \n",
       "1        112542.58       0  \n",
       "2        113931.57       1  \n",
       "3         93826.63       0  \n",
       "4         79084.10       0  "
      ]
     },
     "execution_count": 4,
     "metadata": {},
     "output_type": "execute_result"
    }
   ],
   "source": [
    "data.head()"
   ]
  },
  {
   "cell_type": "code",
   "execution_count": 5,
   "id": "e51bf432",
   "metadata": {},
   "outputs": [
    {
     "data": {
      "text/plain": [
       "RowNumber          0.0\n",
       "CustomerId         0.0\n",
       "Surname            0.0\n",
       "CreditScore        0.0\n",
       "Geography          0.0\n",
       "Gender             0.0\n",
       "Age                0.0\n",
       "Tenure             9.0\n",
       "Balance            0.0\n",
       "NumOfProducts      0.0\n",
       "HasCrCard          0.0\n",
       "IsActiveMember     0.0\n",
       "EstimatedSalary    0.0\n",
       "Exited             0.0\n",
       "dtype: float64"
      ]
     },
     "execution_count": 5,
     "metadata": {},
     "output_type": "execute_result"
    }
   ],
   "source": [
    "round(data.isna().mean() * 100) "
   ]
  },
  {
   "cell_type": "markdown",
   "id": "1ba2a4ac",
   "metadata": {},
   "source": [
    "Проанализировав пропущенные значения, было установлено, что только в столбце Tenure (Сколько лет клиент сотрудничает с банком) есть пропуски, процент которых составляет 9% от всего датасета. Таким образом, мы можем исключить данные строки из выборки."
   ]
  },
  {
   "cell_type": "code",
   "execution_count": 6,
   "id": "defbde59",
   "metadata": {},
   "outputs": [],
   "source": [
    "data = data.dropna(subset = ['Tenure'])"
   ]
  },
  {
   "cell_type": "code",
   "execution_count": 7,
   "id": "c45f9795",
   "metadata": {},
   "outputs": [
    {
     "data": {
      "text/plain": [
       "RowNumber          0.0\n",
       "CustomerId         0.0\n",
       "Surname            0.0\n",
       "CreditScore        0.0\n",
       "Geography          0.0\n",
       "Gender             0.0\n",
       "Age                0.0\n",
       "Tenure             0.0\n",
       "Balance            0.0\n",
       "NumOfProducts      0.0\n",
       "HasCrCard          0.0\n",
       "IsActiveMember     0.0\n",
       "EstimatedSalary    0.0\n",
       "Exited             0.0\n",
       "dtype: float64"
      ]
     },
     "execution_count": 7,
     "metadata": {},
     "output_type": "execute_result"
    }
   ],
   "source": [
    "# Убедимся что все пропуски удалены\n",
    "round(data.isna().mean() * 100) "
   ]
  },
  {
   "cell_type": "code",
   "execution_count": 8,
   "id": "f10a77d4",
   "metadata": {},
   "outputs": [],
   "source": [
    "# Приводим Tenure к типу int\n",
    "data['Tenure'] = data['Tenure'].astype(int)"
   ]
  },
  {
   "cell_type": "code",
   "execution_count": 9,
   "id": "ad043bbe",
   "metadata": {},
   "outputs": [],
   "source": [
    "# Необходимо удалить столбцы, которые не нужны для создания модели\n",
    "data = data.drop(columns = ['RowNumber', 'CustomerId', 'Surname'])"
   ]
  },
  {
   "cell_type": "markdown",
   "id": "7258cf20",
   "metadata": {},
   "source": [
    "Выше указанные столбцы необходимо было удалить, так как модель на основе этих данных не могла бы сделать прогноз, они не несут в себе важной информации."
   ]
  },
  {
   "cell_type": "code",
   "execution_count": 10,
   "id": "0d83d9ac",
   "metadata": {},
   "outputs": [],
   "source": [
    "# Необходимо привести столбцы к общему стилю\n",
    "data = data.rename(\n",
    "    columns={'CreditScore' : 'Credit_score',\n",
    "             'NumOfProducts' : 'Num_of_products',\n",
    "             'HasCrCard' : 'Has_сr_сard',\n",
    "             'IsActiveMember' : 'Is_active_member',\n",
    "             'EstimatedSalary' : 'Estimated_salary'}\n",
    ")"
   ]
  },
  {
   "cell_type": "code",
   "execution_count": 11,
   "id": "48a42d01",
   "metadata": {},
   "outputs": [
    {
     "data": {
      "text/plain": [
       "0"
      ]
     },
     "execution_count": 11,
     "metadata": {},
     "output_type": "execute_result"
    }
   ],
   "source": [
    "data.duplicated().sum()"
   ]
  },
  {
   "cell_type": "code",
   "execution_count": 12,
   "id": "f71672b5",
   "metadata": {},
   "outputs": [],
   "source": [
    "data_ohe = pd.get_dummies(data, drop_first = True)\n",
    "target = data_ohe['Exited']\n",
    "features = data_ohe.drop('Exited', axis = 1)\n",
    "\n",
    "# Необходимо разбить данные на обучающую, валидационную и тестовую выборку (3:1:1)\n",
    "features_train, features_valid, target_train, target_valid = train_test_split(\n",
    "    features, target, test_size = 0.4, random_state = 12345, stratify = target) \n",
    "features_valid, features_test, target_valid, target_test = train_test_split(\n",
    "    features_valid, target_valid, test_size = 0.5, random_state = 12345, stratify = target_valid)"
   ]
  },
  {
   "cell_type": "code",
   "execution_count": 13,
   "id": "c208ca7e",
   "metadata": {},
   "outputs": [
    {
     "data": {
      "text/plain": [
       "(1818, 11)"
      ]
     },
     "metadata": {},
     "output_type": "display_data"
    },
    {
     "data": {
      "text/plain": [
       "(1818,)"
      ]
     },
     "metadata": {},
     "output_type": "display_data"
    }
   ],
   "source": [
    "# Размер выборки\n",
    "display(features_valid.shape)\n",
    "display(target_valid.shape)"
   ]
  },
  {
   "cell_type": "code",
   "execution_count": 14,
   "id": "230d46a3",
   "metadata": {},
   "outputs": [
    {
     "data": {
      "text/plain": [
       "(1819, 11)"
      ]
     },
     "metadata": {},
     "output_type": "display_data"
    },
    {
     "data": {
      "text/plain": [
       "(1819,)"
      ]
     },
     "metadata": {},
     "output_type": "display_data"
    }
   ],
   "source": [
    "# Размер выборки\n",
    "display(features_test.shape)\n",
    "display(target_test.shape)"
   ]
  },
  {
   "cell_type": "markdown",
   "id": "552f8a1f",
   "metadata": {},
   "source": [
    "На этапе предобработке данных были выявлены и устранены ошибки в общем стиле данных, неверный формат / тип данных, обнаружены пропущенные значения. Краткий анализ показал, что явные дубликаты в датасете отсутствуют, в целом данные чистые. Также данные были разбиты на обучающую, валидационную и  тестовую выборку в соотношении 3:1:1. "
   ]
  },
  {
   "cell_type": "markdown",
   "id": "97d8dc0d",
   "metadata": {},
   "source": [
    "## Исследование задачи"
   ]
  },
  {
   "cell_type": "code",
   "execution_count": 15,
   "id": "3df2890d",
   "metadata": {},
   "outputs": [
    {
     "data": {
      "text/plain": [
       "0    7237\n",
       "1    1854\n",
       "Name: Exited, dtype: int64"
      ]
     },
     "execution_count": 15,
     "metadata": {},
     "output_type": "execute_result"
    }
   ],
   "source": [
    "data['Exited'].value_counts()"
   ]
  },
  {
   "cell_type": "markdown",
   "id": "01098cb6",
   "metadata": {},
   "source": [
    "Был произведён анализ целевого признака на предмет сбалансированности. Было установлено, что соотношение классов несбалансированно и составляет примерно 80 / 20."
   ]
  },
  {
   "cell_type": "code",
   "execution_count": 16,
   "id": "a8444965",
   "metadata": {},
   "outputs": [],
   "source": [
    "# Построим модель случайного леса\n",
    "best_model = None\n",
    "best_f1 = 0\n",
    "best_depth = 0\n",
    "best_est = 0\n",
    "\n",
    "for est in range(10, 100, 10):\n",
    "    for depth in range(1,30):\n",
    "        model = RandomForestClassifier(n_estimators = est, random_state = 12345, max_depth = depth)\n",
    "        model.fit(features_train, target_train)\n",
    "        predicted_valid = model.predict(features_valid)\n",
    "        f1 = f1_score(target_valid, predicted_valid)\n",
    "        if f1 > best_f1:\n",
    "            best_model = model\n",
    "            best_f1 = f1\n",
    "            best_depth = depth\n",
    "            best_est = est\n"
   ]
  },
  {
   "cell_type": "code",
   "execution_count": 17,
   "id": "c229e51e",
   "metadata": {},
   "outputs": [
    {
     "name": "stdout",
     "output_type": "stream",
     "text": [
      "best n_estimators = 50 ;  best max_depth = 20 ;  best f1 =  0.6234\n"
     ]
    }
   ],
   "source": [
    "print('best n_estimators =', best_est, '; ', \n",
    "      'best max_depth =', best_depth, '; ', \n",
    "      'best f1 = ', round(best_f1, 4)\n",
    "     ) "
   ]
  },
  {
   "cell_type": "markdown",
   "id": "2a9bc27f",
   "metadata": {},
   "source": [
    "Проведя исследование была выявлена лучшая модель случайного леса по метрики f1, у которой данный показатель составил 0,6234. Оптимальные гиперпараметры глубина\\количество деревьев составили 20 и 50 соотвественно."
   ]
  },
  {
   "cell_type": "code",
   "execution_count": 18,
   "id": "1aeed688",
   "metadata": {},
   "outputs": [
    {
     "name": "stdout",
     "output_type": "stream",
     "text": [
      "0.8654\n"
     ]
    }
   ],
   "source": [
    "probabilities_valid = best_model.predict_proba(features_valid) # Заменила на best_model, auc_roc немного уменьшился\n",
    "probabilities_one_valid = probabilities_valid[:, 1]\n",
    "\n",
    "auc_roc = roc_auc_score(target_valid, probabilities_one_valid)\n",
    "print(round(auc_roc,4))"
   ]
  },
  {
   "cell_type": "code",
   "execution_count": 19,
   "id": "cacbe099",
   "metadata": {},
   "outputs": [],
   "source": [
    "# Построим модель дерево решений\n",
    "best_model = None\n",
    "best_f1 = 0\n",
    "best_depth = 0\n",
    "for depth in range(1, 30):\n",
    "    model = DecisionTreeClassifier(random_state = 12345, max_depth = depth)\n",
    "    model.fit(features_train, target_train)\n",
    "    predicted_valid = model.predict(features_valid)\n",
    "    f1 = f1_score(target_valid, predicted_valid)\n",
    "#    print(\"Глубина дерева\", depth, \":\", f1)\n",
    "    if f1 > best_f1:\n",
    "        best_model = model\n",
    "        best_f1 = f1\n",
    "        best_depth = depth"
   ]
  },
  {
   "cell_type": "code",
   "execution_count": 20,
   "id": "a0a35ee6",
   "metadata": {},
   "outputs": [
    {
     "name": "stdout",
     "output_type": "stream",
     "text": [
      "best max_depth = 7 ;  best f1 =  0.5815\n"
     ]
    }
   ],
   "source": [
    "print('best max_depth =', best_depth, '; ', \n",
    "      'best f1 = ', round(best_f1, 4)\n",
    "     ) "
   ]
  },
  {
   "cell_type": "markdown",
   "id": "b450abd1",
   "metadata": {},
   "source": [
    "Построив модель дерева решений было установлено, что метрика f1 принимает лучшее значение (0,5815) на глубине - 7. \n",
    "f1 = 0.5815"
   ]
  },
  {
   "cell_type": "code",
   "execution_count": 21,
   "id": "c36a67dc",
   "metadata": {},
   "outputs": [
    {
     "name": "stdout",
     "output_type": "stream",
     "text": [
      "0.8245\n"
     ]
    }
   ],
   "source": [
    "probabilities_valid = best_model.predict_proba(features_valid) # Заменила на best_model, auc_roc значительно вырос\n",
    "probabilities_one_valid = probabilities_valid[:, 1]\n",
    "\n",
    "auc_roc = roc_auc_score(target_valid, probabilities_one_valid)\n",
    "print(round(auc_roc,4))"
   ]
  },
  {
   "cell_type": "markdown",
   "id": "23e1c91a",
   "metadata": {},
   "source": [
    "Таким образом, на данном этапе для несбалансированной выборки модель случайного леса продемонстрировала лучшее показатели метрики f1 и auc_roc - 0.6234 и 0.8654 соотвественно. "
   ]
  },
  {
   "cell_type": "markdown",
   "id": "32318fcb",
   "metadata": {},
   "source": [
    "## Борьба с дисбалансом"
   ]
  },
  {
   "cell_type": "markdown",
   "id": "59faf250",
   "metadata": {},
   "source": [
    "**Взвешивание классов**"
   ]
  },
  {
   "cell_type": "code",
   "execution_count": 22,
   "id": "db45d718",
   "metadata": {},
   "outputs": [
    {
     "name": "stdout",
     "output_type": "stream",
     "text": [
      "f1: 0.5831\n"
     ]
    }
   ],
   "source": [
    "balanced_model = DecisionTreeClassifier(\n",
    "    random_state = 12345, max_depth = 6, class_weight = 'balanced') # Был подобран новый оптимальный параметр depth = 6\n",
    "balanced_model.fit(features_train, target_train)\n",
    "predicted_valid = balanced_model.predict(features_valid)\n",
    "f1 = f1_score(target_valid, predicted_valid)\n",
    "print('f1:', round(f1,4))"
   ]
  },
  {
   "cell_type": "code",
   "execution_count": 23,
   "id": "1e3c37d8",
   "metadata": {},
   "outputs": [
    {
     "name": "stdout",
     "output_type": "stream",
     "text": [
      "0.8354\n"
     ]
    }
   ],
   "source": [
    "probabilities_valid = balanced_model.predict_proba(features_valid) \n",
    "probabilities_one_valid = probabilities_valid[:, 1]\n",
    "\n",
    "auc_roc = roc_auc_score(target_valid, probabilities_one_valid)\n",
    "print(round(auc_roc,4))"
   ]
  },
  {
   "cell_type": "code",
   "execution_count": 24,
   "id": "8b456fe1",
   "metadata": {},
   "outputs": [
    {
     "name": "stdout",
     "output_type": "stream",
     "text": [
      "f1: 0.6386\n"
     ]
    }
   ],
   "source": [
    "balanced_model = RandomForestClassifier(n_estimators = 90, random_state = 12345, max_depth = 9, class_weight = 'balanced')\n",
    "balanced_model.fit(features_train, target_train)\n",
    "predicted_valid = balanced_model.predict(features_valid)\n",
    "f1 = f1_score(target_valid, predicted_valid)\n",
    "print('f1:', round(f1,4))"
   ]
  },
  {
   "cell_type": "code",
   "execution_count": 25,
   "id": "ee798c47",
   "metadata": {},
   "outputs": [
    {
     "name": "stdout",
     "output_type": "stream",
     "text": [
      "0.8756\n"
     ]
    }
   ],
   "source": [
    "probabilities_valid = balanced_model.predict_proba(features_valid) \n",
    "probabilities_one_valid = probabilities_valid[:, 1]\n",
    "\n",
    "auc_roc = roc_auc_score(target_valid, probabilities_one_valid)\n",
    "print(round(auc_roc,4))"
   ]
  },
  {
   "cell_type": "markdown",
   "id": "37eadda3",
   "metadata": {},
   "source": [
    "После метода взвешивания классов модели со старыми гиперпараметрами демонстрировали примерно схожий результат. f1 = 0.56. Данные модели не удовлетворяли поставленным изначальным требованиям (минимальный порог f1 = 0.59). Именно поэтому для уже сбалансированной выборки были найдены новые оптимальные параметры: для дерева решений max_depth составила 6, для случайного леса max_depth составила 9, n_estimators - 90. Было установлено, что только модель случайного леса будет допущена до тестирования, так как только у неё метрика f1 (0.6386) превышает заданный порог. (У дерева решений f1 = 0.5831). "
   ]
  },
  {
   "cell_type": "markdown",
   "id": "1636cb94",
   "metadata": {},
   "source": [
    "**Метод увеличения выборки**"
   ]
  },
  {
   "cell_type": "code",
   "execution_count": 26,
   "id": "7c2a3127",
   "metadata": {},
   "outputs": [],
   "source": [
    "def upsample(features, target, repeat):\n",
    "    features_zeros = features[target == 0]\n",
    "    features_ones = features[target == 1]\n",
    "    target_zeros = target[target == 0]\n",
    "    target_ones = target[target == 1]\n",
    "\n",
    "    features_upsampled = pd.concat([features_zeros] + [features_ones] * repeat)\n",
    "    target_upsampled = pd.concat([target_zeros] + [target_ones] * repeat)\n",
    "    \n",
    "    features_upsampled, target_upsampled = shuffle(\n",
    "        features_upsampled, target_upsampled, random_state=12345)\n",
    "    \n",
    "    return features_upsampled, target_upsampled\n",
    "\n",
    "features_upsampled, target_upsampled = upsample(features_train, target_train, 10)"
   ]
  },
  {
   "cell_type": "code",
   "execution_count": 27,
   "id": "950d0650",
   "metadata": {},
   "outputs": [
    {
     "name": "stdout",
     "output_type": "stream",
     "text": [
      "f1 : 0.5297\n"
     ]
    }
   ],
   "source": [
    "#for depth in range(2, 18):\n",
    "balanced_model = DecisionTreeClassifier(\n",
    "random_state = 12345, max_depth = 7)\n",
    "balanced_model.fit(features_upsampled, target_upsampled)\n",
    "predicted_valid = balanced_model.predict(features_valid)\n",
    "f1 = f1_score(target_valid, predicted_valid)\n",
    "print(\"f1\", \":\", round(f1, 4))\n",
    "#    print(\"Глубина дерева\", depth, \":\", f1)"
   ]
  },
  {
   "cell_type": "code",
   "execution_count": 28,
   "id": "a5457ef1",
   "metadata": {},
   "outputs": [
    {
     "name": "stdout",
     "output_type": "stream",
     "text": [
      "0.8254\n"
     ]
    }
   ],
   "source": [
    "probabilities_valid = balanced_model.predict_proba(features_valid) \n",
    "probabilities_one_valid = probabilities_valid[:, 1]\n",
    "\n",
    "auc_roc = roc_auc_score(target_valid, probabilities_one_valid)\n",
    "print(round(auc_roc,4))"
   ]
  },
  {
   "cell_type": "code",
   "execution_count": 29,
   "id": "7c1e3248",
   "metadata": {},
   "outputs": [
    {
     "name": "stdout",
     "output_type": "stream",
     "text": [
      "f1 : 0.6109\n"
     ]
    }
   ],
   "source": [
    "balanced_model = RandomForestClassifier(n_estimators = 50, random_state = 12345, max_depth = 20)\n",
    "balanced_model.fit(features_upsampled, target_upsampled)\n",
    "predicted_valid = balanced_model.predict(features_valid)\n",
    "f1 = f1_score(target_valid, predicted_valid)\n",
    "print(\"f1\", \":\", round(f1, 4))"
   ]
  },
  {
   "cell_type": "code",
   "execution_count": 30,
   "id": "e22e0eec",
   "metadata": {},
   "outputs": [
    {
     "name": "stdout",
     "output_type": "stream",
     "text": [
      "0.8618\n"
     ]
    }
   ],
   "source": [
    "probabilities_valid = balanced_model.predict_proba(features_valid) \n",
    "probabilities_one_valid = probabilities_valid[:, 1]\n",
    "\n",
    "auc_roc = roc_auc_score(target_valid, probabilities_one_valid)\n",
    "print(round(auc_roc,4))"
   ]
  },
  {
   "cell_type": "markdown",
   "id": "ee73c35f",
   "metadata": {},
   "source": [
    "Таким образом, метод увеличения выборки также демонстрирует, что f1 критерий у модели случайного леса выше чем у модели дерево решений, поэтому в дальнейшим данный метод будет использован на тестовой выборке. Что касается показателя roc_auc, то у модели дерево решений он составил 0.8254, а у модели случайного леса - 0.8618."
   ]
  },
  {
   "cell_type": "markdown",
   "id": "befb2a50",
   "metadata": {},
   "source": [
    "## Тестирование модели"
   ]
  },
  {
   "cell_type": "code",
   "execution_count": 31,
   "id": "593c0977",
   "metadata": {},
   "outputs": [
    {
     "name": "stdout",
     "output_type": "stream",
     "text": [
      "f1: 0.5907\n"
     ]
    }
   ],
   "source": [
    "model = RandomForestClassifier(n_estimators = 90, random_state = 12345, max_depth = 9,  class_weight = 'balanced')\n",
    "model.fit(features_train, target_train)\n",
    "predicted_test = model.predict(features_test)\n",
    "f1 = f1_score(target_test, predicted_test)\n",
    "print('f1:', round(f1,4))"
   ]
  },
  {
   "cell_type": "code",
   "execution_count": 32,
   "id": "7849215d",
   "metadata": {},
   "outputs": [
    {
     "name": "stdout",
     "output_type": "stream",
     "text": [
      "0.8475\n"
     ]
    }
   ],
   "source": [
    "probabilities_test = model.predict_proba(features_test)\n",
    "probabilities_one_test = probabilities_test[:, 1]\n",
    "\n",
    "\n",
    "auc_roc = roc_auc_score(target_test, probabilities_one_test)\n",
    "print(round(auc_roc,4))"
   ]
  },
  {
   "cell_type": "markdown",
   "id": "cf08cc57",
   "metadata": {},
   "source": [
    "На этапе тестирования f1 - критерий составил 0,5907, что полностью удовлетворяет условиям поставленной задачи. Что касается параметра auc_roc = 0,8475, его можно считать удовлетворительным. "
   ]
  },
  {
   "cell_type": "markdown",
   "id": "dd15fd43",
   "metadata": {},
   "source": [
    "**Вывод**: Основная цель исследования состояла в создании системы, которая сможет спрогнозировать уйдёт ли клиент в близжайшее время из банка или нет. В качестве исходных данных анализа используется статистика, собранная «Бета-банк». Набор данных содержит информацию о персональнных данных клиента: фамилия, возраст, пол, страна проживания, кредитный рейтинг, сколько лет человек является клиентом банка, наличие кредитной карты, оценка активности потребителя, а также информация об его финансовом состоянии.\n",
    "\n",
    "В начале проекта была проведена подготовка данных. В столбце Tenure были удалины пропущенные значения, они составляли 10% от всей выборки, поэтому их удаление не привело бы к ухудшению качества модели. Также в этом столбеце была замена типа данных на int. В ходе работы были удалены столбцы, которые не нужны для создания модели такие как: RowNumber, CustomerId, Surname. Все названия столбцов были приведены к змеиному регистру. В конце этапа подготовки данные были разбиты на обучающую, валидационную и тестовую выборку в соотношении 3:1:1.\n",
    "\n",
    "На этапе исследование задачи было решено использовать две модели: случайный лес и дерево решений. Было установлено, что \n",
    "для несбалансированной выборки при гиперпараметрах n_estimators = 50 и max_depth = 20 модель случайного леса продемонстрировала лучшее показатели метрики f1 и auc_roc - 0.6234 и 0.8654 соотвественно. Другая модель показала значение чуть ниже: f1 = 0.5815, auc_roc = 0.8245 при гиперпараметре max_depth = 7. Только модель случайного леса превысила минимальный митрики f1, который по условию составлял 0.59.\n",
    "\n",
    "На этапе борьбы с дисбалансом было выявлено, что соотношение классов несбалансированно и составляет примерно 80 / 20.\n",
    "Поэтому в дальнейшем было проведено тестирование моделей с выбранными гиперпараметрами с учётом баланса классов. Использовался метод взвешивания классов и увелечения выборки. В ходе ислодования было установлено, что в обоих случаях модельслучайного леса демонстрировала лучшие показатели и привышала заданный минимальный порог f1.\n",
    "\n",
    "Именно поэтому, модель случайного леса была выбрана в качестве самой эффективной системы, способной проанализировать поведение клиентов и спрогнозировать уйдёт ли клиент из банка или нет. Данная модель была успешно проверена на тестовой выборке с учетом дисбаланса данных. f1 - критерий составил 0,5907, что полностью удовлетворяет условиям поставленной задачи. Что касается параметра auc_roc = 0,8475, его можно считать удовлетворительным. "
   ]
  },
  {
   "cell_type": "code",
   "execution_count": null,
   "id": "c02d2a4c",
   "metadata": {},
   "outputs": [],
   "source": []
  }
 ],
 "metadata": {
  "kernelspec": {
   "display_name": "Python 3 (ipykernel)",
   "language": "python",
   "name": "python3"
  },
  "language_info": {
   "codemirror_mode": {
    "name": "ipython",
    "version": 3
   },
   "file_extension": ".py",
   "mimetype": "text/x-python",
   "name": "python",
   "nbconvert_exporter": "python",
   "pygments_lexer": "ipython3",
   "version": "3.10.9"
  }
 },
 "nbformat": 4,
 "nbformat_minor": 5
}
